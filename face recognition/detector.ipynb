{
 "cells": [
  {
   "cell_type": "markdown",
   "metadata": {},
   "source": [
    "# face recognization"
   ]
  },
  {
   "cell_type": "code",
   "execution_count": 7,
   "metadata": {},
   "outputs": [],
   "source": [
    "import numpy as np\n",
    "import cv2\n",
    "import datetime\n",
    "recognizer = cv2.face.LBPHFaceRecognizer_create()\n",
    "recognizer.read('trainer/trainer.yml')\n",
    "cascadePath = \"haarcascade_frontalface_default.xml\"\n",
    "faceCascade = cv2.CascadeClassifier(cascadePath);\n",
    "cam = cv2.VideoCapture(0)\n",
    "Id=0\n",
    "font = cv2.FONT_HERSHEY_SIMPLEX \n",
    "while True:\n",
    "    ret, im =cam.read()\n",
    "    gray=cv2.cvtColor(im,cv2.COLOR_BGR2GRAY)\n",
    "    faces=faceCascade.detectMultiScale(gray,1.2,5)\n",
    "    text='Width:'+str(cam.get(3))+ ' Height:'+str(cam.get(4))\n",
    "    datet=str(datetime.datetime.now())\n",
    "    im=cv2.putText(im,datet,(10,30),font,1,(255,255,0),1,cv2.LINE_AA)\n",
    "    for(x,y,w,h) in faces:\n",
    "        cv2.rectangle(im,(x,y),(x+w,y+h),(225,0,0),2)\n",
    "        Id, conf = recognizer.predict(gray[y:y+h,x:x+w])\n",
    "        #if(conf<50):\n",
    "        if(Id==1):\n",
    "            Id=\"Naveen\"\n",
    "        elif(Id==2):\n",
    "            Id=\"Salman\"\n",
    "        elif(Id==3):\n",
    "            Id=\"Anand\"\n",
    "        else:\n",
    "            Id=\"Unknown\"\n",
    "        cv2.putText(im,str(Id),(x,y+h),font,1.5,(0,255,255),2,cv2.LINE_AA)\n",
    "    cv2.imshow('im',im)\n",
    "    if cv2.waitKey(10) & 0xFF==ord('q'):\n",
    "        break\n",
    "cam.release()\n",
    "cv2.destroyAllWindows()"
   ]
  },
  {
   "cell_type": "code",
   "execution_count": null,
   "metadata": {},
   "outputs": [],
   "source": []
  }
 ],
 "metadata": {
  "kernelspec": {
   "display_name": "Python 3",
   "language": "python",
   "name": "python3"
  },
  "language_info": {
   "codemirror_mode": {
    "name": "ipython",
    "version": 3
   },
   "file_extension": ".py",
   "mimetype": "text/x-python",
   "name": "python",
   "nbconvert_exporter": "python",
   "pygments_lexer": "ipython3",
   "version": "3.6.9"
  }
 },
 "nbformat": 4,
 "nbformat_minor": 2
}
